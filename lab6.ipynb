{
 "cells": [
  {
   "cell_type": "markdown",
   "metadata": {
    "colab_type": "text",
    "id": "wmCbxoDrADcF"
   },
   "source": [
    "# Google Colab setup with Google Drive folder\n",
    "\n",
    "This notebook provides the code you need to set up Google Colab to run and import files from within a Google Drive folder.\n",
    "\n",
    "This will allow you to upload assignment code to your Google Drive and then run the code on Google Colab machines (with free GPUs if needed). \n",
    "\n",
    "You will need to create a folder in your Google Drive to hold your assignments and you will need to open Colaboratory within this folder before running the set up code (check the link above to see how)."
   ]
  },
  {
   "cell_type": "markdown",
   "metadata": {
    "colab_type": "text",
    "id": "zWhrmhqVCyGH"
   },
   "source": [
    "# Mount Google Drive\n",
    "\n",
    "This will allow the Colab machine to access Google Drive folders by mounting the drive on the machine. You will be asked to copy and paste an authentication code."
   ]
  },
  {
   "cell_type": "code",
   "execution_count": 0,
   "metadata": {
    "colab": {},
    "colab_type": "code",
    "id": "Wv2oKmF9AJtI"
   },
   "outputs": [],
   "source": [
    "from google.colab import drive\n",
    "drive.mount('/content/gdrive/')"
   ]
  },
  {
   "cell_type": "code",
   "execution_count": 0,
   "metadata": {
    "colab": {},
    "colab_type": "code",
    "id": "kKGxaMcmP_Et"
   },
   "outputs": [],
   "source": [
    "ls"
   ]
  },
  {
   "cell_type": "markdown",
   "metadata": {
    "colab_type": "text",
    "id": "4Qs04PPwDOFy"
   },
   "source": [
    "# Change directory to allow imports\n",
    "\n",
    "\n",
    "As noted above, you should create a Google Drive folder to hold all your assignment files. You will need to add this code to the top of any python notebook you run to be able to import python files from your drive assignment folder (you should change the file path below to be your own assignment folder). Following the hand-out, you should have a directory \"SFU_CMPT_CV_lab6\" on g-drive, which should have a directory \"data\", which contains three tar.gz files."
   ]
  },
  {
   "cell_type": "code",
   "execution_count": 0,
   "metadata": {
    "colab": {},
    "colab_type": "code",
    "id": "UA2-UyfpEc9O"
   },
   "outputs": [],
   "source": [
    "import os\n",
    "os.chdir(\"/content/gdrive/My Drive/SFU_CMPT_CV_lab6\")"
   ]
  },
  {
   "cell_type": "code",
   "execution_count": 0,
   "metadata": {
    "colab": {},
    "colab_type": "code",
    "id": "gyRCWAIyRHWc"
   },
   "outputs": [],
   "source": [
    "ls # Check if this is your folder"
   ]
  },
  {
   "cell_type": "markdown",
   "metadata": {
    "colab_type": "text",
    "id": "SJOCaUMilRz_"
   },
   "source": [
    "# Copy data to local dir"
   ]
  },
  {
   "cell_type": "code",
   "execution_count": 0,
   "metadata": {
    "colab": {},
    "colab_type": "code",
    "id": "90MxG_eRla0W"
   },
   "outputs": [],
   "source": [
    "!mkdir /data\n",
    "!cp data/cifar100.tar.gz /data/\n",
    "!tar -xf /data/cifar100.tar.gz -C /data/\n",
    "!cp data/test.tar.gz /data\n",
    "!tar -xf /data/test.tar.gz -C /data\n",
    "!cp data/train.tar.gz /data\n",
    "!tar -xf /data/train.tar.gz -C /data/"
   ]
  },
  {
   "cell_type": "code",
   "execution_count": 0,
   "metadata": {
    "colab": {},
    "colab_type": "code",
    "id": "XvFEFItpl98p"
   },
   "outputs": [],
   "source": [
    "ls /data"
   ]
  },
  {
   "cell_type": "markdown",
   "metadata": {
    "colab_type": "text",
    "id": "DDU5aVgR9QBx"
   },
   "source": [
    "# Set up GPU and PyTorch\n",
    "\n",
    "First, ensure that your notebook on Colaboratory is set up to use GPU. After opening the notebook on Colaboratory, go to Edit>Notebook settings, select Python 3 under \"Runtime type,\" select GPU under \"Hardware accelerator,\" and save.\n",
    "\n",
    "Next, install PyTorch:"
   ]
  },
  {
   "cell_type": "code",
   "execution_count": 2,
   "metadata": {
    "colab": {},
    "colab_type": "code",
    "id": "kjbQtzKT9Uc2"
   },
   "outputs": [
    {
     "name": "stdout",
     "output_type": "stream",
     "text": [
      "Requirement already satisfied: torch in e:\\anaconda3\\lib\\site-packages (1.4.0)\n",
      "Requirement already satisfied: torchvision in e:\\anaconda3\\lib\\site-packages (0.5.0)\n",
      "Requirement already satisfied: numpy in c:\\users\\songyih\\appdata\\roaming\\python\\python37\\site-packages (from torchvision) (1.18.1)\n",
      "Requirement already satisfied: pillow>=4.1.1 in e:\\anaconda3\\lib\\site-packages (from torchvision) (6.2.0)\n",
      "Requirement already satisfied: six in c:\\users\\songyih\\appdata\\roaming\\python\\python37\\site-packages (from torchvision) (1.14.0)\n"
     ]
    }
   ],
   "source": [
    "!pip install torch torchvision"
   ]
  },
  {
   "cell_type": "markdown",
   "metadata": {
    "colab_type": "text",
    "id": "u_BekZYY9Vzx"
   },
   "source": [
    "Make sure that pytorch is installed and works with GPU:"
   ]
  },
  {
   "cell_type": "code",
   "execution_count": 1,
   "metadata": {
    "colab": {},
    "colab_type": "code",
    "id": "8TXSJWQa9efx"
   },
   "outputs": [
    {
     "name": "stdout",
     "output_type": "stream",
     "text": [
      "tensor([1.], device='cuda:0')\n"
     ]
    }
   ],
   "source": [
    "import torch\n",
    "a = torch.Tensor([1]).cuda()\n",
    "print(a)\n"
   ]
  },
  {
   "cell_type": "code",
   "execution_count": 2,
   "metadata": {
    "colab": {},
    "colab_type": "code",
    "id": "OEeRNsCjRXZK"
   },
   "outputs": [
    {
     "data": {
      "text/plain": [
       "True"
      ]
     },
     "execution_count": 2,
     "metadata": {},
     "output_type": "execute_result"
    }
   ],
   "source": [
    "torch.cuda.is_available()"
   ]
  },
  {
   "cell_type": "markdown",
   "metadata": {
    "colab_type": "text",
    "id": "qChgLJERsvZP"
   },
   "source": [
    "# Part 1"
   ]
  },
  {
   "cell_type": "code",
   "execution_count": 3,
   "metadata": {
    "colab": {},
    "colab_type": "code",
    "id": "IlyCnvf6WzjR"
   },
   "outputs": [
    {
     "data": {
      "text/plain": [
       "<torch._C.Generator at 0x1e780106bd0>"
      ]
     },
     "execution_count": 3,
     "metadata": {},
     "output_type": "execute_result"
    }
   ],
   "source": [
    "\"\"\"Headers\"\"\"\n",
    "\n",
    "from __future__ import print_function\n",
    "from PIL import Image\n",
    "import os\n",
    "import os.path\n",
    "import numpy as np\n",
    "import sys\n",
    "if sys.version_info[0] == 2:\n",
    "    import cPickle as pickle\n",
    "else:\n",
    "    import pickle\n",
    "\n",
    "import torch.utils.data as data\n",
    "from torchvision.datasets.utils import download_url, check_integrity\n",
    "\n",
    "import csv\n",
    "%matplotlib inline\n",
    "import matplotlib\n",
    "import matplotlib.pyplot as plt\n",
    "import numpy as np\n",
    "import os.path\n",
    "import sys\n",
    "import torch\n",
    "import torch.utils.data\n",
    "import torchvision\n",
    "import torchvision.transforms as transforms\n",
    "\n",
    "from torch.autograd import Variable\n",
    "import torch.nn as nn\n",
    "import torch.nn.functional as F\n",
    "\n",
    "np.random.seed(111)\n",
    "torch.cuda.manual_seed_all(111)\n",
    "torch.manual_seed(111)"
   ]
  },
  {
   "cell_type": "markdown",
   "metadata": {
    "colab_type": "text",
    "id": "137GhZMrcTuj"
   },
   "source": [
    "\n",
    "\n",
    "## **Just execute the cell below. This is the dataloader. DO NOT CHANGE ANYTHING IN HERE!**\n"
   ]
  },
  {
   "cell_type": "code",
   "execution_count": 6,
   "metadata": {
    "colab": {},
    "colab_type": "code",
    "id": "URUH4fzzWqKr"
   },
   "outputs": [],
   "source": [
    "\"\"\"\"\"\"\n",
    "\n",
    "class CIFAR10_SFU_CV(data.Dataset):\n",
    "    \"\"\"`CIFAR10 <https://www.cs.toronto.edu/~kriz/cifar.html>`_ Dataset.\n",
    "\n",
    "    Args:\n",
    "        root (string): Root directory of dataset where directory\n",
    "            ``cifar-10-batches-py`` exists or will be saved to if download is set to True.\n",
    "        train (bool, optional): If True, creates dataset from training set, otherwise\n",
    "            creates from test set.\n",
    "        transform (callable, optional): A function/transform that  takes in an PIL image\n",
    "            and returns a transformed version. E.g, ``transforms.RandomCrop``\n",
    "        target_transform (callable, optional): A function/transform that takes in the\n",
    "            target and transforms it.\n",
    "        download (bool, optional): If true, downloads the dataset from the internet and\n",
    "            puts it in root directory. If dataset is already downloaded, it is not\n",
    "            downloaded again.\n",
    "\n",
    "    \"\"\"\n",
    "    base_folder = 'cifar100'\n",
    "    url = \"https://www.cs.toronto.edu/~kriz/cifar-10-python.tar.gz\"\n",
    "    filename = \"cifar100.tar.gz\"\n",
    "    tgz_md5 = 'c58f30108f718f92721af3b95e74349a'\n",
    "    train_list = [\n",
    "        ['data_batch_1', 'c99cafc152244af753f735de768cd75f'],\n",
    "        ['data_batch_2', 'd4bba439e000b95fd0a9bffe97cbabec'],\n",
    "        ['data_batch_3', '54ebc095f3ab1f0389bbae665268c751'],\n",
    "        ['data_batch_4', '634d18415352ddfa80567beed471001a'],\n",
    "        ['data_batch_5', '482c414d41f54cd18b22e5b47cb7c3cb'],\n",
    "    ]\n",
    "\n",
    "    test_list = [\n",
    "        ['test_batch', '40351d587109b95175f43aff81a1287e'],\n",
    "    ]\n",
    "\n",
    "    def __init__(self, root, fold=\"train\",\n",
    "                 transform=None, target_transform=None,\n",
    "                 download=False):\n",
    "        \n",
    "        fold = fold.lower()\n",
    "\n",
    "        self.train = False\n",
    "        self.test = False\n",
    "        self.val = False\n",
    "\n",
    "        if fold == \"train\":\n",
    "            self.train = True\n",
    "        elif fold == \"test\":\n",
    "            self.test = True\n",
    "        elif fold == \"val\":\n",
    "            self.val = True\n",
    "        else:\n",
    "            raise RuntimeError(\"Not train-val-test\")\n",
    "\n",
    "\n",
    "        self.root = os.path.expanduser(root)\n",
    "        self.transform = transform\n",
    "        self.target_transform = target_transform\n",
    "\n",
    "        fpath = os.path.join(root, self.filename)\n",
    "        if not self._check_integrity():\n",
    "            raise RuntimeError('Dataset not found or corrupted.' +\n",
    "                               ' Download it and extract the file again.')\n",
    "\n",
    "        # now load the picked numpy arrays\n",
    "        if self.train or self.val:\n",
    "            self.train_data = []\n",
    "            self.train_labels = []\n",
    "            for fentry in self.train_list:\n",
    "                f = fentry[0]\n",
    "                file = os.path.join(self.root, self.base_folder, f)\n",
    "                fo = open(file, 'rb')\n",
    "                if sys.version_info[0] == 2:\n",
    "                    entry = pickle.load(fo)\n",
    "                else:\n",
    "                    entry = pickle.load(fo, encoding='latin1')\n",
    "                self.train_data.append(entry['data'])\n",
    "                if 'labels' in entry:\n",
    "                    self.train_labels += entry['labels']\n",
    "                else:\n",
    "                    self.train_labels += entry['fine_labels']\n",
    "                fo.close()\n",
    "\n",
    "            self.train_data = np.concatenate(self.train_data)\n",
    "            self.train_data = self.train_data.reshape((50000, 3, 32, 32))\n",
    "            self.train_data = self.train_data.transpose((0, 2, 3, 1))  # convert to HWC\n",
    "            \n",
    "            p = np.arange(0,50000,10)\n",
    "            mask_train = np.ones((50000,), dtype=bool)\n",
    "            mask_train[p] = False\n",
    "            mask_val = np.zeros((50000,), dtype=bool)\n",
    "            mask_val[p] = True\n",
    "\n",
    "            copy_all_data = np.array(self.train_data)\n",
    "            self.val_data = np.array(copy_all_data[mask_val])\n",
    "            self.train_data = np.array(copy_all_data[mask_train])\n",
    "            \n",
    "            copy_all_labels = np.array(self.train_labels)\n",
    "            self.val_labels = np.array(copy_all_labels[mask_val])\n",
    "            self.train_labels = np.array(copy_all_labels[mask_train])\n",
    "\n",
    "        elif self.test:\n",
    "            f = self.test_list[0][0]\n",
    "            file = os.path.join(self.root, self.base_folder, f)\n",
    "            fo = open(file, 'rb')\n",
    "            if sys.version_info[0] == 2:\n",
    "                entry = pickle.load(fo)\n",
    "            else:\n",
    "                entry = pickle.load(fo, encoding='latin1')\n",
    "            self.test_data = entry['data']\n",
    "\n",
    "            if 'labels' in entry:\n",
    "                self.test_labels = entry['labels']\n",
    "            else:\n",
    "                self.test_labels = entry['fine_labels']\n",
    "            fo.close()\n",
    "            self.test_data = self.test_data.reshape((10000, 3, 32, 32))\n",
    "            self.test_data = self.test_data.transpose((0, 2, 3, 1))  # convert to HWC\n",
    "\n",
    "    def __getitem__(self, index):\n",
    "        \"\"\"\n",
    "        Args:\n",
    "            index (int): Index\n",
    "\n",
    "        Returns:\n",
    "            tuple: (image, target) where target is index of the target class.\n",
    "        \"\"\"\n",
    "        if self.train:\n",
    "            img, target = self.train_data[index], self.train_labels[index]\n",
    "        elif self.test:\n",
    "            img, target = self.test_data[index], self.test_labels[index]\n",
    "        elif self.val:\n",
    "            img, target = self.val_data[index], self.val_labels[index]\n",
    "\n",
    "        # doing this so that it is consistent with all other datasets\n",
    "        # to return a PIL Image\n",
    "        img = Image.fromarray(img)\n",
    "\n",
    "        if self.transform is not None:\n",
    "            img = self.transform(img)\n",
    "\n",
    "        if self.target_transform is not None:\n",
    "            target = self.target_transform(target)\n",
    "\n",
    "        return img, target\n",
    "\n",
    "    def __len__(self):\n",
    "        if self.train:\n",
    "            return len(self.train_data)\n",
    "        elif self.test:\n",
    "            return len(self.test_data)\n",
    "        elif self.val:\n",
    "            return len(self.val_data)\n",
    "\n",
    "    def _check_integrity(self):\n",
    "        root = self.root\n",
    "        for fentry in (self.train_list + self.test_list):\n",
    "            filename, md5 = fentry[0], fentry[1]\n",
    "            fpath = os.path.join(root, self.base_folder, filename)\n",
    "            if not check_integrity(fpath, md5):\n",
    "                return False\n",
    "        return True\n",
    "\n",
    "    def __repr__(self):\n",
    "        fmt_str = 'Dataset ' + self.__class__.__name__ + '\\n'\n",
    "        fmt_str += '    Number of datapoints: {}\\n'.format(self.__len__())\n",
    "        tmp = 'train' if self.train is True else 'test'\n",
    "        fmt_str += '    Split: {}\\n'.format(tmp)\n",
    "        fmt_str += '    Root Location: {}\\n'.format(self.root)\n",
    "        tmp = '    Transforms (if any): '\n",
    "        fmt_str += '{0}{1}\\n'.format(tmp, self.transform.__repr__().replace('\\n', '\\n' + ' ' * len(tmp)))\n",
    "        tmp = '    Target Transforms (if any): '\n",
    "        fmt_str += '{0}{1}'.format(tmp, self.target_transform.__repr__().replace('\\n', '\\n' + ' ' * len(tmp)))\n",
    "        return fmt_str\n",
    "\n",
    "\n",
    "class CIFAR100_SFU_CV(CIFAR10_SFU_CV):\n",
    "    \"\"\"`CIFAR100 <https://www.cs.toronto.edu/~kriz/cifar.html>`_ Dataset.\n",
    "\n",
    "    This is a subclass of the `CIFAR10` Dataset.\n",
    "    \"\"\"\n",
    "    base_folder = 'cifar100'\n",
    "    filename = \"cifar100.tar.gz\"\n",
    "    tgz_md5 = 'e68a4c763591787a0b39fe2209371f32'\n",
    "    train_list = [\n",
    "        ['train_cs543', '49eee854445c1e2ebe796cd93c20bb0f'],\n",
    "    ]\n",
    "\n",
    "    test_list = [\n",
    "        ['test_cs543', 'd3fe9f6a9251bd443f428f896d27384f'],\n",
    "    ]"
   ]
  },
  {
   "cell_type": "markdown",
   "metadata": {
    "colab_type": "text",
    "id": "JpFMv7HtcII4"
   },
   "source": [
    "This file has been adapted from the easy-to-use tutorial released by PyTorch:\n",
    "http://pytorch.org/tutorials/beginner/blitz/cifar10_tutorial.html\n",
    "\n",
    "Training an image classifier\n",
    "----------------------------\n",
    "\n",
    "We will do the following steps in order:\n",
    "\n",
    "1. Load the CIFAR100_SFU_CV training, validation and test datasets using\n",
    "   torchvision. Use torchvision.transforms to apply transforms on the\n",
    "   dataset.\n",
    "2. Define a Convolution Neural Network - BaseNet\n",
    "3. Define a loss function and optimizer\n",
    "4. Train the network on training data and check performance on val set.\n",
    "   Plot train loss and validation accuracies.\n",
    "5. Try the network on test data and create .csv file for submission to kaggle"
   ]
  },
  {
   "cell_type": "code",
   "execution_count": 62,
   "metadata": {
    "colab": {},
    "colab_type": "code",
    "id": "Ld6juH34dWWq"
   },
   "outputs": [],
   "source": [
    "# <<TODO#5>> Based on the val set performance, decide how many\n",
    "# epochs are apt for your model.\n",
    "# ---------\n",
    "EPOCHS = 100\n",
    "# ---------\n",
    "\n",
    "IS_GPU = True\n",
    "TEST_BS = 256\n",
    "TOTAL_CLASSES = 100\n",
    "TRAIN_BS = 32\n",
    "PATH_TO_CIFAR100_SFU_CV = \"./data/\""
   ]
  },
  {
   "cell_type": "code",
   "execution_count": 9,
   "metadata": {
    "colab": {},
    "colab_type": "code",
    "id": "0ENlTTMi-qFD",
    "scrolled": true
   },
   "outputs": [
    {
     "name": "stdout",
     "output_type": "stream",
     "text": [
      " Volume in drive E is Old Volume\n",
      " Volume Serial Number is A435-F016\n",
      "\n",
      " Directory of E:\\SFU\\CV-by-Pytorch\\data\\cifar100\n",
      "\n",
      "04/02/2020  12:55 PM    <DIR>          .\n",
      "04/02/2020  12:55 PM    <DIR>          ..\n",
      "04/10/2019  03:52 PM               212 ._cifar100\n",
      "04/16/2018  01:02 AM               212 ._test_cs543\n",
      "04/16/2018  01:02 AM               212 ._train_cs543\n",
      "04/16/2018  01:02 AM        80,462,974 test_cs543\n",
      "04/16/2018  01:02 AM       403,498,305 train_cs543\n",
      "               5 File(s)    483,961,915 bytes\n",
      "               2 Dir(s)  145,959,370,752 bytes free\n"
     ]
    }
   ],
   "source": [
    "%ls \"./data/cifar100/\""
   ]
  },
  {
   "cell_type": "code",
   "execution_count": 10,
   "metadata": {
    "colab": {},
    "colab_type": "code",
    "id": "d57CSAj1dfix"
   },
   "outputs": [],
   "source": [
    "def calculate_val_accuracy(valloader, is_gpu):\n",
    "    \"\"\" Util function to calculate val set accuracy,\n",
    "    both overall and per class accuracy\n",
    "    Args:\n",
    "        valloader (torch.utils.data.DataLoader): val set \n",
    "        is_gpu (bool): whether to run on GPU\n",
    "    Returns:\n",
    "        tuple: (overall accuracy, class level accuracy)\n",
    "    \"\"\"    \n",
    "    correct = 0.\n",
    "    total = 0.\n",
    "    predictions = []\n",
    "\n",
    "    class_correct = list(0. for i in range(TOTAL_CLASSES))\n",
    "    class_total = list(0. for i in range(TOTAL_CLASSES))\n",
    "\n",
    "    for data in valloader:\n",
    "        images, labels = data\n",
    "        if is_gpu:\n",
    "            images = images.cuda()\n",
    "            labels = labels.cuda()\n",
    "        outputs = net(Variable(images))\n",
    "        _, predicted = torch.max(outputs.data, 1)\n",
    "        predictions.extend(list(predicted.cpu().numpy()))\n",
    "        total += labels.size(0)\n",
    "        correct += (predicted == labels).sum()\n",
    "\n",
    "        c = (predicted == labels).squeeze()\n",
    "        for i in range(len(labels)):\n",
    "            label = labels[i]\n",
    "            class_correct[label] += c[i]\n",
    "            class_total[label] += 1\n",
    "\n",
    "    class_accuracy = 100 * np.divide(class_correct, class_total)\n",
    "    return 100*correct/total, class_accuracy"
   ]
  },
  {
   "cell_type": "markdown",
   "metadata": {
    "colab_type": "text",
    "id": "aq2qOUaJeAWJ"
   },
   "source": [
    "1.** Loading CIFAR100_SFU_CV**\n",
    "\n",
    "We modify the dataset to create CIFAR100_SFU_CV dataset which consist of 45000 training images (450 of each class), 5000 validation images (50 of each class) and 10000 test images (100 of each class). The train and val datasets have labels while all the labels in the test set are set to 0.\n"
   ]
  },
  {
   "cell_type": "code",
   "execution_count": 11,
   "metadata": {
    "colab": {},
    "colab_type": "code",
    "id": "C2UcDZmtdfq3"
   },
   "outputs": [
    {
     "name": "stdout",
     "output_type": "stream",
     "text": [
      "Train set size: 45000\n",
      "Val set size: 5000\n",
      "Test set size: 10000\n"
     ]
    }
   ],
   "source": [
    "# The output of torchvision datasets are PILImage images of range [0, 1].\n",
    "# Using transforms.ToTensor(), transform them to Tensors of normalized range\n",
    "# [-1, 1].\n",
    "\n",
    "\n",
    "# <<TODO#1>> Use transforms.Normalize() with the right parameters to \n",
    "# make the data well conditioned (zero mean, std dev=1) for improved training.\n",
    "# <<TODO#2>> Try using transforms.RandomCrop() and/or transforms.RandomHorizontalFlip()\n",
    "# to augment training data.\n",
    "# After your edits, make sure that test_transform should have the same data\n",
    "# normalization parameters as train_transform\n",
    "# You shouldn't have any data augmentation in test_transform (val or test data is never augmented).\n",
    "# ---------------------\n",
    "\n",
    "# add normalize to train & test dataset\n",
    "original_size = 32\n",
    "\n",
    "train_transform = transforms.Compose(\n",
    "    [\n",
    "     transforms.ColorJitter(hue=.05, saturation=.05),\n",
    "     transforms.RandomHorizontalFlip(),\n",
    "     transforms.RandomRotation(20),    \n",
    "     transforms.Resize((round(original_size * 1.2), round(original_size * 1.2)), interpolation=2),\n",
    "     transforms.RandomCrop(size=original_size),\n",
    "     transforms.ToTensor(),\n",
    "     transforms.Normalize((0.5, 0.5, 0.5), (0.5, 0.5, 0.5))])\n",
    "test_transform = transforms.Compose(\n",
    "    [transforms.ToTensor(),\n",
    "     transforms.Normalize((0.5, 0.5, 0.5), (0.5, 0.5, 0.5))])\n",
    "# ---------------------\n",
    "\n",
    "trainset = CIFAR100_SFU_CV(root=PATH_TO_CIFAR100_SFU_CV, fold=\"train\",\n",
    "                                        download=True, transform=train_transform)\n",
    "trainloader = torch.utils.data.DataLoader(trainset, batch_size=TRAIN_BS,\n",
    "                                          shuffle=True, num_workers=0)\n",
    "print(\"Train set size: \"+str(len(trainset)))\n",
    "\n",
    "valset = CIFAR100_SFU_CV(root=PATH_TO_CIFAR100_SFU_CV, fold=\"val\",\n",
    "                                       download=True, transform=test_transform)\n",
    "valloader = torch.utils.data.DataLoader(valset, batch_size=TEST_BS,\n",
    "                                         shuffle=False, num_workers=0)\n",
    "print(\"Val set size: \"+str(len(valset)))\n",
    "\n",
    "testset = CIFAR100_SFU_CV(root=PATH_TO_CIFAR100_SFU_CV, fold=\"test\",\n",
    "                                       download=True, transform=test_transform)\n",
    "testloader = torch.utils.data.DataLoader(testset, batch_size=TEST_BS,\n",
    "                                         shuffle=False, num_workers=0)\n",
    "print(\"Test set size: \"+str(len(testset)))\n",
    "\n",
    "# The 100 classes for CIFAR100\n",
    "classes = ['apple', 'aquarium_fish', 'baby', 'bear', 'beaver', 'bed', 'bee', 'beetle', 'bicycle', 'bottle', 'bowl', 'boy', 'bridge', 'bus', 'butterfly', 'camel', 'can', 'castle', 'caterpillar', 'cattle', 'chair', 'chimpanzee', 'clock', 'cloud', 'cockroach', 'couch', 'crab', 'crocodile', 'cup', 'dinosaur', 'dolphin', 'elephant', 'flatfish', 'forest', 'fox', 'girl', 'hamster', 'house', 'kangaroo', 'keyboard', 'lamp', 'lawn_mower', 'leopard', 'lion', 'lizard', 'lobster', 'man', 'maple_tree', 'motorcycle', 'mountain', 'mouse', 'mushroom', 'oak_tree', 'orange', 'orchid', 'otter', 'palm_tree', 'pear', 'pickup_truck', 'pine_tree', 'plain', 'plate', 'poppy', 'porcupine', 'possum', 'rabbit', 'raccoon', 'ray', 'road', 'rocket', 'rose', 'sea', 'seal', 'shark', 'shrew', 'skunk', 'skyscraper', 'snail', 'snake', 'spider', 'squirrel', 'streetcar', 'sunflower', 'sweet_pepper', 'table', 'tank', 'telephone', 'television', 'tiger', 'tractor', 'train', 'trout', 'tulip', 'turtle', 'wardrobe', 'whale', 'willow_tree', 'wolf', 'woman', 'worm']\n",
    "\n"
   ]
  },
  {
   "cell_type": "code",
   "execution_count": 64,
   "metadata": {
    "colab": {},
    "colab_type": "code",
    "id": "5b_fBznndp4W",
    "scrolled": true
   },
   "outputs": [
    {
     "name": "stdout",
     "output_type": "stream",
     "text": [
      "BaseNet(\n",
      "  (conv_net): Sequential(\n",
      "    (0): Conv2d(3, 64, kernel_size=(3, 3), stride=(1, 1), padding=(1, 1))\n",
      "    (1): BatchNorm2d(64, eps=1e-05, momentum=0.1, affine=True, track_running_stats=True)\n",
      "    (2): ReLU()\n",
      "    (3): Conv2d(64, 64, kernel_size=(3, 3), stride=(1, 1), padding=(1, 1))\n",
      "    (4): BatchNorm2d(64, eps=1e-05, momentum=0.1, affine=True, track_running_stats=True)\n",
      "    (5): ReLU()\n",
      "    (6): MaxPool2d(kernel_size=2, stride=2, padding=0, dilation=1, ceil_mode=False)\n",
      "    (7): Conv2d(64, 128, kernel_size=(3, 3), stride=(1, 1), padding=(1, 1))\n",
      "    (8): BatchNorm2d(128, eps=1e-05, momentum=0.1, affine=True, track_running_stats=True)\n",
      "    (9): ReLU()\n",
      "    (10): Conv2d(128, 128, kernel_size=(3, 3), stride=(1, 1), padding=(1, 1))\n",
      "    (11): BatchNorm2d(128, eps=1e-05, momentum=0.1, affine=True, track_running_stats=True)\n",
      "    (12): ReLU()\n",
      "    (13): MaxPool2d(kernel_size=2, stride=2, padding=0, dilation=1, ceil_mode=False)\n",
      "    (14): Conv2d(128, 256, kernel_size=(3, 3), stride=(1, 1), padding=(1, 1))\n",
      "    (15): BatchNorm2d(256, eps=1e-05, momentum=0.1, affine=True, track_running_stats=True)\n",
      "    (16): ReLU()\n",
      "    (17): Conv2d(256, 256, kernel_size=(3, 3), stride=(1, 1), padding=(1, 1))\n",
      "    (18): BatchNorm2d(256, eps=1e-05, momentum=0.1, affine=True, track_running_stats=True)\n",
      "    (19): ReLU()\n",
      "    (20): MaxPool2d(kernel_size=2, stride=2, padding=0, dilation=1, ceil_mode=False)\n",
      "    (21): Conv2d(256, 512, kernel_size=(3, 3), stride=(1, 1), padding=(1, 1))\n",
      "    (22): BatchNorm2d(512, eps=1e-05, momentum=0.1, affine=True, track_running_stats=True)\n",
      "    (23): ReLU()\n",
      "    (24): Conv2d(512, 512, kernel_size=(3, 3), stride=(1, 1), padding=(1, 1))\n",
      "    (25): BatchNorm2d(512, eps=1e-05, momentum=0.1, affine=True, track_running_stats=True)\n",
      "    (26): ReLU()\n",
      "    (27): MaxPool2d(kernel_size=2, stride=2, padding=0, dilation=1, ceil_mode=False)\n",
      "    (28): Conv2d(512, 512, kernel_size=(3, 3), stride=(1, 1), padding=(1, 1))\n",
      "    (29): BatchNorm2d(512, eps=1e-05, momentum=0.1, affine=True, track_running_stats=True)\n",
      "    (30): ReLU()\n",
      "    (31): Conv2d(512, 512, kernel_size=(3, 3), stride=(1, 1), padding=(1, 1))\n",
      "    (32): BatchNorm2d(512, eps=1e-05, momentum=0.1, affine=True, track_running_stats=True)\n",
      "    (33): ReLU()\n",
      "  )\n",
      "  (fc_net): Sequential(\n",
      "    (0): Linear(in_features=2048, out_features=4096, bias=True)\n",
      "    (1): BatchNorm1d(4096, eps=1e-05, momentum=0.1, affine=True, track_running_stats=True)\n",
      "    (2): ReLU()\n",
      "    (3): Linear(in_features=4096, out_features=2048, bias=True)\n",
      "    (4): BatchNorm1d(2048, eps=1e-05, momentum=0.1, affine=True, track_running_stats=True)\n",
      "    (5): ReLU()\n",
      "    (6): Linear(in_features=2048, out_features=1024, bias=True)\n",
      "    (7): BatchNorm1d(1024, eps=1e-05, momentum=0.1, affine=True, track_running_stats=True)\n",
      "    (8): ReLU()\n",
      "    (9): Linear(in_features=1024, out_features=100, bias=True)\n",
      "  )\n",
      ")\n"
     ]
    }
   ],
   "source": [
    "########################################################################\n",
    "# 2. Define a Convolution Neural Network\n",
    "# ^^^^^^^^^^^^^^^^^^^^^^^^^^^^^^^^^^^^^^\n",
    "# We provide a basic network that you should understand, run and\n",
    "# eventually improve\n",
    "# <<TODO>> Add more conv layers\n",
    "# <<TODO>> Add more fully connected (fc) layers\n",
    "# <<TODO>> Add regularization layers like Batchnorm.\n",
    "#          nn.BatchNorm2d after conv layers:\n",
    "#          http://pytorch.org/docs/master/nn.html#batchnorm2d\n",
    "#          nn.BatchNorm1d after fc layers:\n",
    "#          http://pytorch.org/docs/master/nn.html#batchnorm1d\n",
    "# This is a good resource for developing a CNN for classification:\n",
    "# http://cs231n.github.io/convolutional-networks/#layers\n",
    "\n",
    "import torch.nn as nn\n",
    "import torch.nn.functional as F\n",
    "\n",
    "class BaseNet(nn.Module):\n",
    "    def __init__(self):\n",
    "        super(BaseNet, self).__init__()\n",
    "        \n",
    "        # <<TODO#3>> Add more conv layers with increasing \n",
    "        # output channels\n",
    "        # <<TODO#4>> Add normalization layers after conv\n",
    "        # layers (nn.BatchNorm2d)\n",
    "\n",
    "        # Also experiment with kernel size in conv2d layers (say 3\n",
    "        # inspired from VGGNet)\n",
    "        # To keep it simple, keep the same kernel size\n",
    "        # (right now set to 5) in all conv layers.\n",
    "        # Do not have a maxpool layer after every conv layer in your\n",
    "        # deeper network as it leads to too much loss of information.\n",
    "        \n",
    "        self.conv_net = nn.Sequential(\n",
    "            nn.Conv2d(3, 64, 3, padding=1),\n",
    "            nn.BatchNorm2d(64),\n",
    "            nn.ReLU(),\n",
    "            \n",
    "            nn.Conv2d(64, 64, 3, padding=1),\n",
    "            nn.BatchNorm2d(64),\n",
    "            nn.ReLU(),\n",
    "            \n",
    "            nn.MaxPool2d(2, 2),\n",
    "            \n",
    "            nn.Conv2d(64, 128, 3, padding=1),\n",
    "            nn.BatchNorm2d(128),\n",
    "            nn.ReLU(),\n",
    "            \n",
    "            nn.Conv2d(128, 128, 3, padding=1),\n",
    "            nn.BatchNorm2d(128),\n",
    "            nn.ReLU(),\n",
    "            \n",
    "            nn.MaxPool2d(2, 2),\n",
    "            \n",
    "            nn.Conv2d(128, 256, 3, padding=1),\n",
    "            nn.BatchNorm2d(256),\n",
    "            nn.ReLU(),\n",
    "            \n",
    "            nn.Conv2d(256, 256, 3, padding=1),\n",
    "            nn.BatchNorm2d(256),\n",
    "            nn.ReLU(),\n",
    "            \n",
    "            nn.MaxPool2d(2, 2),\n",
    "            \n",
    "            nn.Conv2d(256, 512, 3, padding=1),\n",
    "            nn.BatchNorm2d(512),\n",
    "            nn.ReLU(),\n",
    "            \n",
    "            nn.Conv2d(512, 512, 3, padding=1),\n",
    "            nn.BatchNorm2d(512),\n",
    "            nn.ReLU(),\n",
    "            \n",
    "            nn.MaxPool2d(2, 2),\n",
    "            \n",
    "            nn.Conv2d(512, 512, 3, padding=1),\n",
    "            nn.BatchNorm2d(512),\n",
    "            nn.ReLU(),\n",
    "            \n",
    "            nn.Conv2d(512, 512, 3, padding=1),\n",
    "            nn.BatchNorm2d(512),\n",
    "            nn.ReLU()\n",
    "        )\n",
    "\n",
    "        # <<TODO#3>> Add more linear (fc) layers\n",
    "        # <<TODO#4>> Add normalization layers after linear and\n",
    "        # experiment inserting them before or after ReLU (nn.BatchNorm1d)\n",
    "        # More on nn.sequential:\n",
    "        # http://pytorch.org/docs/master/nn.html#torch.nn.Sequential\n",
    "        \n",
    "        self.fc_net = nn.Sequential(\n",
    "#             nn.Dropout(p=0.5),\n",
    "            nn.Linear(2048, 4096),\n",
    "            nn.BatchNorm1d(4096),\n",
    "            nn.ReLU(),\n",
    "#             nn.Dropout(p=0.5),\n",
    "            nn.Linear(4096, 2048),\n",
    "            nn.BatchNorm1d(2048),\n",
    "            nn.ReLU(),\n",
    "#             nn.Dropout(p=0.5),\n",
    "            nn.Linear(2048, 1024),\n",
    "            nn.BatchNorm1d(1024),\n",
    "            nn.ReLU(),\n",
    "            nn.Linear(1024, TOTAL_CLASSES)\n",
    "        )\n",
    "\n",
    "    def forward(self, x):\n",
    "\n",
    "        # <<TODO#3&#4>> Based on the above edits, you'll have\n",
    "        # to edit the forward pass description here.\n",
    "        \n",
    "        x = self.conv_net(x)\n",
    "        # See the CS231 link to understand why this is 16*5*5!\n",
    "        # This will help you design your own deeper network\n",
    "        x = x.view(-1, 2048)\n",
    "        x = self.fc_net(x)\n",
    "\n",
    "        # No softmax is needed as the loss function in step 3\n",
    "        # takes care of that\n",
    "        \n",
    "        return x\n",
    "\n",
    "# Create an instance of the nn.module class defined above:\n",
    "net = BaseNet()\n",
    "print(net)\n",
    "\n",
    "# For training on GPU, we need to transfer net and data onto the GPU\n",
    "# http://pytorch.org/tutorials/beginner/blitz/cifar10_tutorial.html#training-on-gpu\n",
    "if IS_GPU:\n",
    "    net = net.cuda()\n"
   ]
  },
  {
   "cell_type": "code",
   "execution_count": 65,
   "metadata": {
    "colab": {},
    "colab_type": "code",
    "id": "zAZjIcLOdp-W"
   },
   "outputs": [],
   "source": [
    "########################################################################\n",
    "# 3. Define a Loss function and optimizer\n",
    "# ^^^^^^^^^^^^^^^^^^^^^^^^^^^^^^^^^^^^^^^\n",
    "# Here we use Cross-Entropy loss and SGD with momentum.\n",
    "# The CrossEntropyLoss criterion already includes softmax within its\n",
    "# implementation. That's why we don't use a softmax in our model\n",
    "# definition.\n",
    "\n",
    "import torch.optim as optim\n",
    "criterion = nn.CrossEntropyLoss()\n",
    "\n",
    "# Tune the learning rate.\n",
    "# See whether the momentum is useful or not\n",
    "optimizer = optim.Adam(net.parameters(), lr=0.005)\n",
    "# optimizer = optim.SGD(net.parameters(), lr=0.005, momentum=0.9)\n",
    "\n",
    "plt.ioff()\n",
    "fig = plt.figure()\n",
    "train_loss_over_epochs = []\n",
    "val_accuracy_over_epochs = []\n"
   ]
  },
  {
   "cell_type": "code",
   "execution_count": 66,
   "metadata": {
    "colab": {},
    "colab_type": "code",
    "id": "Ku7eF366dyUP",
    "scrolled": true
   },
   "outputs": [
    {
     "name": "stdout",
     "output_type": "stream",
     "text": [
      "[1] loss: 4.352\n",
      "Accuracy of the network on the val images: 4 %\n",
      "[2] loss: 4.083\n",
      "Accuracy of the network on the val images: 7 %\n",
      "[3] loss: 3.931\n",
      "Accuracy of the network on the val images: 9 %\n",
      "[4] loss: 3.800\n",
      "Accuracy of the network on the val images: 12 %\n",
      "[5] loss: 3.691\n",
      "Accuracy of the network on the val images: 13 %\n",
      "[6] loss: 3.587\n",
      "Accuracy of the network on the val images: 15 %\n",
      "[7] loss: 3.485\n",
      "Accuracy of the network on the val images: 17 %\n",
      "[8] loss: 3.386\n",
      "Accuracy of the network on the val images: 19 %\n",
      "[9] loss: 3.289\n",
      "Accuracy of the network on the val images: 21 %\n",
      "[10] loss: 3.197\n",
      "Accuracy of the network on the val images: 23 %\n",
      "[11] loss: 3.115\n",
      "Accuracy of the network on the val images: 26 %\n",
      "[12] loss: 3.029\n",
      "Accuracy of the network on the val images: 26 %\n",
      "[13] loss: 2.957\n",
      "Accuracy of the network on the val images: 27 %\n",
      "[14] loss: 2.871\n",
      "Accuracy of the network on the val images: 30 %\n",
      "[15] loss: 2.771\n",
      "Accuracy of the network on the val images: 32 %\n",
      "[16] loss: 2.662\n",
      "Accuracy of the network on the val images: 35 %\n",
      "[17] loss: 2.562\n",
      "Accuracy of the network on the val images: 36 %\n",
      "[18] loss: 2.472\n",
      "Accuracy of the network on the val images: 38 %\n",
      "[19] loss: 2.390\n",
      "Accuracy of the network on the val images: 40 %\n",
      "[20] loss: 2.340\n",
      "Accuracy of the network on the val images: 40 %\n",
      "[21] loss: 2.276\n",
      "Accuracy of the network on the val images: 42 %\n",
      "[22] loss: 2.219\n",
      "Accuracy of the network on the val images: 42 %\n",
      "[23] loss: 2.172\n",
      "Accuracy of the network on the val images: 43 %\n",
      "[24] loss: 2.127\n",
      "Accuracy of the network on the val images: 44 %\n",
      "[25] loss: 2.084\n",
      "Accuracy of the network on the val images: 45 %\n",
      "[26] loss: 2.045\n",
      "Accuracy of the network on the val images: 45 %\n",
      "[27] loss: 1.997\n",
      "Accuracy of the network on the val images: 47 %\n",
      "[28] loss: 1.945\n",
      "Accuracy of the network on the val images: 47 %\n",
      "[29] loss: 1.907\n",
      "Accuracy of the network on the val images: 47 %\n",
      "[30] loss: 1.865\n",
      "Accuracy of the network on the val images: 48 %\n",
      "[31] loss: 1.833\n",
      "Accuracy of the network on the val images: 49 %\n",
      "[32] loss: 1.795\n",
      "Accuracy of the network on the val images: 49 %\n",
      "[33] loss: 1.761\n",
      "Accuracy of the network on the val images: 50 %\n",
      "[34] loss: 1.722\n",
      "Accuracy of the network on the val images: 51 %\n",
      "[35] loss: 1.689\n",
      "Accuracy of the network on the val images: 51 %\n",
      "[36] loss: 1.657\n",
      "Accuracy of the network on the val images: 50 %\n",
      "[37] loss: 1.635\n",
      "Accuracy of the network on the val images: 51 %\n",
      "[38] loss: 1.604\n",
      "Accuracy of the network on the val images: 52 %\n",
      "[39] loss: 1.588\n",
      "Accuracy of the network on the val images: 53 %\n",
      "[40] loss: 1.547\n",
      "Accuracy of the network on the val images: 53 %\n",
      "[41] loss: 1.524\n",
      "Accuracy of the network on the val images: 53 %\n",
      "[42] loss: 1.504\n",
      "Accuracy of the network on the val images: 53 %\n",
      "[43] loss: 1.478\n",
      "Accuracy of the network on the val images: 54 %\n",
      "[44] loss: 1.457\n",
      "Accuracy of the network on the val images: 54 %\n",
      "[45] loss: 1.418\n",
      "Accuracy of the network on the val images: 54 %\n",
      "[46] loss: 1.396\n",
      "Accuracy of the network on the val images: 55 %\n",
      "[47] loss: 1.389\n",
      "Accuracy of the network on the val images: 55 %\n",
      "[48] loss: 1.363\n",
      "Accuracy of the network on the val images: 54 %\n",
      "[49] loss: 1.341\n",
      "Accuracy of the network on the val images: 54 %\n",
      "[50] loss: 1.319\n",
      "Accuracy of the network on the val images: 54 %\n",
      "[51] loss: 1.307\n",
      "Accuracy of the network on the val images: 55 %\n",
      "[52] loss: 1.276\n",
      "Accuracy of the network on the val images: 55 %\n",
      "[53] loss: 1.273\n",
      "Accuracy of the network on the val images: 56 %\n",
      "[54] loss: 1.254\n",
      "Accuracy of the network on the val images: 55 %\n",
      "[55] loss: 1.225\n",
      "Accuracy of the network on the val images: 56 %\n",
      "[56] loss: 1.205\n",
      "Accuracy of the network on the val images: 56 %\n",
      "[57] loss: 1.189\n",
      "Accuracy of the network on the val images: 56 %\n",
      "[58] loss: 1.180\n",
      "Accuracy of the network on the val images: 56 %\n",
      "[59] loss: 1.154\n",
      "Accuracy of the network on the val images: 56 %\n",
      "[60] loss: 1.149\n",
      "Accuracy of the network on the val images: 56 %\n",
      "[61] loss: 1.135\n",
      "Accuracy of the network on the val images: 55 %\n",
      "[62] loss: 1.118\n",
      "Accuracy of the network on the val images: 57 %\n",
      "[63] loss: 1.103\n",
      "Accuracy of the network on the val images: 57 %\n",
      "[64] loss: 1.085\n",
      "Accuracy of the network on the val images: 57 %\n",
      "[65] loss: 1.077\n",
      "Accuracy of the network on the val images: 57 %\n",
      "[66] loss: 1.059\n",
      "Accuracy of the network on the val images: 57 %\n",
      "[67] loss: 1.044\n",
      "Accuracy of the network on the val images: 57 %\n",
      "[68] loss: 1.022\n",
      "Accuracy of the network on the val images: 57 %\n",
      "[69] loss: 1.005\n",
      "Accuracy of the network on the val images: 57 %\n",
      "[70] loss: 1.008\n",
      "Accuracy of the network on the val images: 57 %\n",
      "[71] loss: 0.986\n",
      "Accuracy of the network on the val images: 57 %\n",
      "[72] loss: 0.976\n",
      "Accuracy of the network on the val images: 57 %\n",
      "[73] loss: 0.972\n",
      "Accuracy of the network on the val images: 58 %\n",
      "[74] loss: 0.958\n",
      "Accuracy of the network on the val images: 57 %\n",
      "[75] loss: 0.946\n",
      "Accuracy of the network on the val images: 57 %\n",
      "[76] loss: 0.935\n",
      "Accuracy of the network on the val images: 58 %\n",
      "[77] loss: 0.926\n",
      "Accuracy of the network on the val images: 58 %\n",
      "[78] loss: 0.913\n",
      "Accuracy of the network on the val images: 57 %\n",
      "[79] loss: 0.890\n",
      "Accuracy of the network on the val images: 58 %\n",
      "[80] loss: 0.895\n",
      "Accuracy of the network on the val images: 57 %\n",
      "[81] loss: 0.877\n",
      "Accuracy of the network on the val images: 57 %\n",
      "[82] loss: 0.857\n",
      "Accuracy of the network on the val images: 57 %\n",
      "[83] loss: 0.846\n",
      "Accuracy of the network on the val images: 58 %\n",
      "[84] loss: 0.839\n",
      "Accuracy of the network on the val images: 58 %\n",
      "[85] loss: 0.833\n",
      "Accuracy of the network on the val images: 58 %\n",
      "[86] loss: 0.823\n",
      "Accuracy of the network on the val images: 57 %\n",
      "[87] loss: 0.817\n",
      "Accuracy of the network on the val images: 58 %\n",
      "[88] loss: 0.813\n",
      "Accuracy of the network on the val images: 58 %\n",
      "[89] loss: 0.802\n",
      "Accuracy of the network on the val images: 59 %\n",
      "[90] loss: 0.789\n",
      "Accuracy of the network on the val images: 57 %\n",
      "[91] loss: 0.782\n",
      "Accuracy of the network on the val images: 57 %\n",
      "[92] loss: 0.765\n",
      "Accuracy of the network on the val images: 57 %\n",
      "[93] loss: 0.764\n",
      "Accuracy of the network on the val images: 58 %\n",
      "[94] loss: 0.750\n",
      "Accuracy of the network on the val images: 57 %\n",
      "[95] loss: 0.736\n",
      "Accuracy of the network on the val images: 58 %\n",
      "[96] loss: 0.736\n",
      "Accuracy of the network on the val images: 58 %\n",
      "[97] loss: 0.721\n",
      "Accuracy of the network on the val images: 58 %\n",
      "[98] loss: 0.719\n",
      "Accuracy of the network on the val images: 59 %\n",
      "[99] loss: 0.717\n",
      "Accuracy of the network on the val images: 59 %\n",
      "[100] loss: 0.703\n",
      "Accuracy of the network on the val images: 58 %\n",
      "Finished Training\n"
     ]
    }
   ],
   "source": [
    "########################################################################\n",
    "# 4. Train the network\n",
    "# ^^^^^^^^^^^^^^^^^^^^\n",
    "#\n",
    "# We simply have to loop over our data iterator, and feed the inputs to the\n",
    "# network and optimize. We evaluate the validation accuracy at each\n",
    "# epoch and plot these values over the number of epochs\n",
    "# Nothing to change here\n",
    "# -----------------------------\n",
    "\n",
    "best_val_acc = 0\n",
    "\n",
    "for epoch in range(EPOCHS):  # loop over the dataset multiple times\n",
    "\n",
    "    running_loss = 0.0\n",
    "    for i, data in enumerate(trainloader, 0):\n",
    "        # get the inputs\n",
    "        inputs, labels = data\n",
    "\n",
    "        if IS_GPU:\n",
    "            inputs = inputs.cuda()\n",
    "            labels = labels.cuda()\n",
    "\n",
    "        # wrap them in Variable\n",
    "        inputs, labels = Variable(inputs), Variable(labels)\n",
    "\n",
    "        # zero the parameter gradients\n",
    "        optimizer.zero_grad()\n",
    "\n",
    "        # forward + backward + optimize\n",
    "        outputs = net(inputs)\n",
    "        loss = criterion(outputs, labels.long())\n",
    "        loss.backward()\n",
    "        optimizer.step()\n",
    "\n",
    "        # print statistics\n",
    "        running_loss += loss.item()\n",
    "    \n",
    "    # Normalizing the loss by the total number of train batches\n",
    "    running_loss/=len(trainloader)\n",
    "    print('[%d] loss: %.3f' %\n",
    "          (epoch + 1, running_loss))\n",
    "\n",
    "    # Scale of 0.0 to 100.0\n",
    "    # Calculate validation set accuracy of the existing model\n",
    "    val_accuracy, val_classwise_accuracy = \\\n",
    "        calculate_val_accuracy(valloader, IS_GPU)\n",
    "    print('Accuracy of the network on the val images: %d %%' % (val_accuracy))\n",
    "    \n",
    "    # save best val acc model\n",
    "    if val_accuracy > best_val_acc:\n",
    "        torch.save(net, 'best_cifar100.pth')\n",
    "\n",
    "    # # Optionally print classwise accuracies\n",
    "    # for c_i in range(TOTAL_CLASSES):\n",
    "    #     print('Accuracy of %5s : %2d %%' % (\n",
    "    #         classes[c_i], 100 * val_classwise_accuracy[c_i]))\n",
    "\n",
    "    train_loss_over_epochs.append(running_loss)\n",
    "    val_accuracy_over_epochs.append(val_accuracy)\n",
    "# -----------------------------\n",
    "\n",
    "\n",
    "# Plot train loss over epochs and val set accuracy over epochs\n",
    "# Nothing to change here\n",
    "# -------------\n",
    "plt.subplot(2, 1, 1)\n",
    "plt.ylabel('Train loss')\n",
    "plt.plot(np.arange(EPOCHS), train_loss_over_epochs, 'k-')\n",
    "plt.title('train loss and val accuracy')\n",
    "plt.xticks(np.arange(EPOCHS, dtype=int))\n",
    "plt.grid(True)\n",
    "\n",
    "plt.subplot(2, 1, 2)\n",
    "plt.plot(np.arange(EPOCHS), val_accuracy_over_epochs, 'b-')\n",
    "plt.ylabel('Val accuracy')\n",
    "plt.xlabel('Epochs')\n",
    "plt.xticks(np.arange(EPOCHS, dtype=int))\n",
    "plt.grid(True)\n",
    "plt.savefig(\"plot.png\")\n",
    "plt.close(fig)\n",
    "print('Finished Training')\n",
    "# -------------"
   ]
  },
  {
   "cell_type": "code",
   "execution_count": 67,
   "metadata": {
    "colab": {},
    "colab_type": "code",
    "id": "v1GE8t3mRdy9"
   },
   "outputs": [],
   "source": [
    "########################################################################\n",
    "# 5. Try the network on test data, and create .csv file\n",
    "# ^^^^^^^^^^^^^^^^^^^^^^^^^^^^^^^^^^^^^^^^^^^^^^^^^^^^^\n",
    "########################################################################\n",
    "\n",
    "# Check out why .eval() is important!\n",
    "# https://discuss.pytorch.org/t/model-train-and-model-eval-vs-model-and-model-eval/5744/2\n",
    "net.eval()\n",
    "\n",
    "total = 0\n",
    "predictions = []\n",
    "for data in testloader:\n",
    "    images, labels = data\n",
    "\n",
    "    # For training on GPU, we need to transfer net and data onto the GPU\n",
    "    # http://pytorch.org/tutorials/beginner/blitz/cifar10_tutorial.html#training-on-gpu\n",
    "    if IS_GPU:\n",
    "        images = images.cuda()\n",
    "        labels = labels.cuda()\n",
    "    \n",
    "    outputs = net(Variable(images))\n",
    "    _, predicted = torch.max(outputs.data, 1)\n",
    "    predictions.extend(list(predicted.cpu().numpy()))\n",
    "    total += labels.size(0)\n",
    "\n",
    "with open('submission_netid.csv', 'w') as csvfile:\n",
    "    wr = csv.writer(csvfile, quoting=csv.QUOTE_ALL)\n",
    "    wr.writerow([\"Id\", \"Prediction1\"])\n",
    "    for l_i, label in enumerate(predictions):\n",
    "        wr.writerow([str(l_i), str(label)])\n"
   ]
  },
  {
   "cell_type": "markdown",
   "metadata": {
    "colab_type": "text",
    "id": "og2F2MLhs7L6"
   },
   "source": [
    "# Part 2"
   ]
  },
  {
   "cell_type": "code",
   "execution_count": 4,
   "metadata": {
    "colab": {},
    "colab_type": "code",
    "id": "prD0eXGpdoCR"
   },
   "outputs": [],
   "source": [
    "\"\"\"Headers\"\"\"\n",
    "import os\n",
    "import os.path as osp\n",
    "import time\n",
    "\n",
    "%matplotlib inline\n",
    "import matplotlib.pyplot as plt\n",
    "\n",
    "import torch\n",
    "import torch.nn as nn\n",
    "import torchvision.models as models\n",
    "import torch.optim as optim\n",
    "\n",
    "from torchvision import datasets"
   ]
  },
  {
   "cell_type": "markdown",
   "metadata": {
    "colab_type": "text",
    "id": "P6CJz7OM0J9Z"
   },
   "source": [
    "# Pre-Trained Model\n",
    "\n",
    "TODO1. Load pretrained resnet model. Experiment with different models. \n",
    "\n",
    "TODO2: Replace last fc layer\n",
    "\n",
    "TODO3. Forward pass"
   ]
  },
  {
   "cell_type": "code",
   "execution_count": 5,
   "metadata": {
    "colab": {},
    "colab_type": "code",
    "id": "HUdo6AkH0maX"
   },
   "outputs": [],
   "source": [
    "class PreTrainedResNet(nn.Module):\n",
    "  def __init__(self, num_classes, feature_extracting):\n",
    "    super(PreTrainedResNet, self).__init__()\n",
    "    \n",
    "    #TODO1: Load pre-trained ResNet Model\n",
    "    self.resnet18 = models.resnet18(pretrained=True)\n",
    "\n",
    "    #Set gradients to false\n",
    "    if feature_extracting:\n",
    "      for param in self.resnet18.parameters():\n",
    "          param.requires_grad = False\n",
    "    \n",
    "    #Replace last fc layer\n",
    "    num_feats = self.resnet18.fc.in_features\n",
    "    \n",
    "    #TODO2: Replace fc layer in resnet to a linear layer of size (num_feats, num_classes)\n",
    "    self.resnet18.fc = nn.Linear(num_feats, num_classes)\n",
    "    \n",
    "  def forward(self, x):\n",
    "    #TODO3: Forward pass x through the model\n",
    "    x = self.resnet18(x)\n",
    "    return x"
   ]
  },
  {
   "cell_type": "markdown",
   "metadata": {
    "colab_type": "text",
    "id": "Y_DRbNt8Jask"
   },
   "source": [
    "# Train"
   ]
  },
  {
   "cell_type": "code",
   "execution_count": 6,
   "metadata": {
    "colab": {},
    "colab_type": "code",
    "id": "ujUNEVsEvWwv"
   },
   "outputs": [],
   "source": [
    "def train(model, optimizer, criterion, epoch, num_epochs):\n",
    "  model.train()\n",
    "  epoch_loss = 0.0\n",
    "  epoch_acc = 0.0\n",
    "  \n",
    "  for batch_idx, (images, labels) in enumerate(dataloaders['train']):\n",
    "    #zero the parameter gradients\n",
    "    optimizer.zero_grad()\n",
    "    \n",
    "    #move to GPU\n",
    "    images, labels = images.cuda(), labels.cuda()\n",
    "    \n",
    "    #forward\n",
    "    outputs = model.forward(images)\n",
    "    \n",
    "    loss = criterion(outputs, labels)\n",
    "    \n",
    "    _, preds = torch.max(outputs.data, 1)\n",
    "    \n",
    "    loss.backward()\n",
    "    optimizer.step()\n",
    "    \n",
    "    epoch_loss += loss.item()\n",
    "    epoch_acc += torch.sum(preds == labels).item()\n",
    "    \n",
    "  epoch_loss /= dataset_sizes['train']\n",
    "  epoch_acc /= dataset_sizes['train']\n",
    "  \n",
    "  print('TRAINING Epoch %d/%d Loss %.4f Accuracy %.4f' % (epoch, num_epochs, epoch_loss, epoch_acc))"
   ]
  },
  {
   "cell_type": "markdown",
   "metadata": {
    "colab_type": "text",
    "id": "mAbNgE4r7vm-"
   },
   "source": [
    "# Main\n",
    "\n",
    "1. Vary hyperparams\n",
    "2. Data augmentation"
   ]
  },
  {
   "cell_type": "code",
   "execution_count": 16,
   "metadata": {
    "colab": {},
    "colab_type": "code",
    "id": "oZkI3scVWjOQ",
    "scrolled": true
   },
   "outputs": [
    {
     "name": "stdout",
     "output_type": "stream",
     "text": [
      "TRAINING Epoch 1/50 Loss 0.0437 Accuracy 0.0067\n",
      "Test Loss: 0.0428 Test Accuracy 0.0043\n",
      "TRAINING Epoch 2/50 Loss 0.0428 Accuracy 0.0067\n",
      "TRAINING Epoch 3/50 Loss 0.0421 Accuracy 0.0117\n",
      "TRAINING Epoch 4/50 Loss 0.0417 Accuracy 0.0167\n",
      "TRAINING Epoch 5/50 Loss 0.0411 Accuracy 0.0217\n",
      "TRAINING Epoch 6/50 Loss 0.0407 Accuracy 0.0297\n",
      "Test Loss: 0.0402 Test Accuracy 0.0264\n",
      "TRAINING Epoch 7/50 Loss 0.0403 Accuracy 0.0417\n",
      "TRAINING Epoch 8/50 Loss 0.0399 Accuracy 0.0453\n",
      "TRAINING Epoch 9/50 Loss 0.0394 Accuracy 0.0557\n",
      "TRAINING Epoch 10/50 Loss 0.0392 Accuracy 0.0610\n",
      "TRAINING Epoch 11/50 Loss 0.0387 Accuracy 0.0837\n",
      "Test Loss: 0.0384 Test Accuracy 0.0597\n",
      "TRAINING Epoch 12/50 Loss 0.0382 Accuracy 0.0900\n",
      "TRAINING Epoch 13/50 Loss 0.0379 Accuracy 0.1033\n",
      "TRAINING Epoch 14/50 Loss 0.0375 Accuracy 0.1210\n",
      "TRAINING Epoch 15/50 Loss 0.0371 Accuracy 0.1297\n",
      "TRAINING Epoch 16/50 Loss 0.0367 Accuracy 0.1507\n",
      "Test Loss: 0.0367 Test Accuracy 0.1124\n",
      "TRAINING Epoch 17/50 Loss 0.0363 Accuracy 0.1653\n",
      "TRAINING Epoch 18/50 Loss 0.0360 Accuracy 0.1723\n",
      "TRAINING Epoch 19/50 Loss 0.0357 Accuracy 0.1930\n",
      "TRAINING Epoch 20/50 Loss 0.0353 Accuracy 0.2070\n",
      "TRAINING Epoch 21/50 Loss 0.0349 Accuracy 0.2240\n",
      "Test Loss: 0.0352 Test Accuracy 0.1609\n",
      "TRAINING Epoch 22/50 Loss 0.0345 Accuracy 0.2370\n",
      "TRAINING Epoch 23/50 Loss 0.0342 Accuracy 0.2523\n",
      "TRAINING Epoch 24/50 Loss 0.0339 Accuracy 0.2617\n",
      "TRAINING Epoch 25/50 Loss 0.0336 Accuracy 0.2773\n",
      "TRAINING Epoch 26/50 Loss 0.0333 Accuracy 0.2960\n",
      "Test Loss: 0.0337 Test Accuracy 0.1942\n",
      "TRAINING Epoch 27/50 Loss 0.0330 Accuracy 0.2993\n",
      "TRAINING Epoch 28/50 Loss 0.0327 Accuracy 0.2993\n",
      "TRAINING Epoch 29/50 Loss 0.0324 Accuracy 0.3130\n",
      "TRAINING Epoch 30/50 Loss 0.0322 Accuracy 0.3363\n",
      "TRAINING Epoch 31/50 Loss 0.0317 Accuracy 0.3547\n",
      "Test Loss: 0.0325 Test Accuracy 0.2272\n",
      "TRAINING Epoch 32/50 Loss 0.0315 Accuracy 0.3433\n",
      "TRAINING Epoch 33/50 Loss 0.0313 Accuracy 0.3520\n",
      "TRAINING Epoch 34/50 Loss 0.0309 Accuracy 0.3747\n",
      "TRAINING Epoch 35/50 Loss 0.0307 Accuracy 0.3687\n",
      "TRAINING Epoch 36/50 Loss 0.0305 Accuracy 0.3833\n",
      "Test Loss: 0.0313 Test Accuracy 0.2545\n",
      "TRAINING Epoch 37/50 Loss 0.0302 Accuracy 0.3903\n",
      "TRAINING Epoch 38/50 Loss 0.0299 Accuracy 0.4023\n",
      "TRAINING Epoch 39/50 Loss 0.0296 Accuracy 0.4123\n",
      "TRAINING Epoch 40/50 Loss 0.0294 Accuracy 0.4180\n",
      "TRAINING Epoch 41/50 Loss 0.0291 Accuracy 0.4127\n",
      "Test Loss: 0.0304 Test Accuracy 0.2760\n",
      "TRAINING Epoch 42/50 Loss 0.0288 Accuracy 0.4300\n",
      "TRAINING Epoch 43/50 Loss 0.0286 Accuracy 0.4427\n",
      "TRAINING Epoch 44/50 Loss 0.0283 Accuracy 0.4407\n",
      "TRAINING Epoch 45/50 Loss 0.0282 Accuracy 0.4500\n",
      "TRAINING Epoch 46/50 Loss 0.0279 Accuracy 0.4617\n",
      "Test Loss: 0.0294 Test Accuracy 0.2957\n",
      "TRAINING Epoch 47/50 Loss 0.0278 Accuracy 0.4557\n",
      "TRAINING Epoch 48/50 Loss 0.0276 Accuracy 0.4700\n",
      "TRAINING Epoch 49/50 Loss 0.0272 Accuracy 0.4807\n",
      "TRAINING Epoch 50/50 Loss 0.0270 Accuracy 0.4873\n",
      "Finished Training\n",
      "----------\n"
     ]
    }
   ],
   "source": [
    "#TODO: Vary Hyperparams\n",
    "\n",
    "NUM_EPOCHS = 50\n",
    "# LEARNING_RATE = 0.0001 \n",
    "LEARNING_RATE = 0.001\n",
    "BATCH_SIZE = 128\n",
    "RESNET_LAST_ONLY = True #Fine tunes only the last layer. Set to False to fine tune entire network\n",
    "\n",
    "root_path = 'E:/SFU/CV-by-Pytorch/data/' #If your data is in a different folder, set the path accodordingly\n",
    "\n",
    "data_transforms = {\n",
    "    'train': transforms.Compose([\n",
    "        transforms.ColorJitter(hue=.05, saturation=.05),\n",
    "        transforms.RandomHorizontalFlip(),\n",
    "        transforms.Resize(256),\n",
    "        transforms.CenterCrop(224),\n",
    "        #TODO: Transforms.RandomResizedCrop() instead of CenterCrop(), RandomRoate() and Horizontal Flip()\n",
    "        transforms.RandomResizedCrop(224),\n",
    "        transforms.ToTensor(),\n",
    "        #TODO: Transforms.Normalize()\n",
    "        transforms.Normalize((0.5, 0.5, 0.5), (0.5, 0.5, 0.5))\n",
    "    ]),\n",
    "    'test': transforms.Compose([\n",
    "        transforms.Resize(256),\n",
    "        transforms.CenterCrop(224),\n",
    "        transforms.ToTensor(),\n",
    "        #TODO: Transforms.Normalize()\n",
    "        transforms.Normalize((0.5, 0.5, 0.5), (0.5, 0.5, 0.5))\n",
    "    ]),\n",
    "}\n",
    "\n",
    "# loading datasets with PyTorch ImageFolder\n",
    "image_datasets = {x: datasets.ImageFolder(os.path.join(root_path, x),\n",
    "                                          data_transforms[x])\n",
    "                  for x in ['train', 'test']}\n",
    "\n",
    "# defining data loaders to load data using image_datasets and transforms, here we also specify batch size for the mini batch\n",
    "dataloaders = {x: torch.utils.data.DataLoader(image_datasets[x], batch_size=BATCH_SIZE,\n",
    "                                             shuffle=True, num_workers=0)\n",
    "              for x in ['train', 'test']}\n",
    "\n",
    "dataset_sizes = {x: len(image_datasets[x]) for x in ['train', 'test']}\n",
    "class_names = image_datasets['train'].classes\n",
    "\n",
    "#Initialize the model\n",
    "model = None\n",
    "model = PreTrainedResNet(len(class_names), RESNET_LAST_ONLY)\n",
    "model = model.cuda()\n",
    "\n",
    "#Setting the optimizer and loss criterion\n",
    "optimizer = optim.SGD(model.parameters(), lr=LEARNING_RATE, momentum=0.9)\n",
    "criterion = nn.CrossEntropyLoss()\n",
    "\n",
    "#Begin Train\n",
    "for epoch in range(NUM_EPOCHS):\n",
    "  train(model, optimizer, criterion, epoch+1, NUM_EPOCHS)\n",
    "  if epoch % 5 == 0:\n",
    "    test(model, criterion)\n",
    "  \n",
    "print(\"Finished Training\")\n",
    "print(\"-\"*10)"
   ]
  },
  {
   "cell_type": "markdown",
   "metadata": {
    "colab_type": "text",
    "id": "DEbsnh3a7ljw"
   },
   "source": [
    "# Test"
   ]
  },
  {
   "cell_type": "code",
   "execution_count": 14,
   "metadata": {
    "colab": {},
    "colab_type": "code",
    "id": "4wyYKmQ91woU"
   },
   "outputs": [],
   "source": [
    "def test(model, criterion, repeats=2):\n",
    "  model.eval()\n",
    "  \n",
    "  test_loss = 0.0\n",
    "  test_acc = 0.0\n",
    "  \n",
    "  with torch.no_grad():\n",
    "    for itr in range(repeats):\n",
    "      for batch_idx, (images, labels) in enumerate(dataloaders['test']):\n",
    "        #move to GPU\n",
    "        images, labels = images.cuda(), labels.cuda()\n",
    "\n",
    "        #forward\n",
    "        outputs = model.forward(images)\n",
    "\n",
    "        loss = criterion(outputs, labels)\n",
    "\n",
    "        _, preds = torch.max(outputs.data, 1)\n",
    "\n",
    "        test_loss += loss.item()\n",
    "        test_acc += torch.sum(preds == labels).item()\n",
    "\n",
    "    test_loss /= (dataset_sizes['test']*repeats)\n",
    "    test_acc /= (dataset_sizes['test']*repeats)\n",
    "\n",
    "    print('Test Loss: %.4f Test Accuracy %.4f' % (test_loss, test_acc))\n"
   ]
  },
  {
   "cell_type": "code",
   "execution_count": 15,
   "metadata": {
    "colab": {},
    "colab_type": "code",
    "id": "znXWR6oWyl-B"
   },
   "outputs": [
    {
     "name": "stdout",
     "output_type": "stream",
     "text": [
      "Test Loss: 0.0180 Test Accuracy 0.4876\n"
     ]
    }
   ],
   "source": [
    "test(model, criterion)"
   ]
  },
  {
   "cell_type": "markdown",
   "metadata": {
    "colab_type": "text",
    "id": "kNX2g3AYUbM2"
   },
   "source": [
    "# Visualizing the model predictions\n",
    "\n",
    "Only for viusalizing. Nothing to be done here. "
   ]
  },
  {
   "cell_type": "code",
   "execution_count": 73,
   "metadata": {
    "colab": {},
    "colab_type": "code",
    "id": "Zd_lkTdoUaOX"
   },
   "outputs": [],
   "source": [
    "def imshow(inp, title=None):\n",
    "    \"\"\"Imshow for Tensor.\"\"\"\n",
    "    inp = inp.numpy().transpose((1, 2, 0))\n",
    "    inp = np.clip(inp, 0, 1)\n",
    "    plt.imshow(inp)\n",
    "    if title is not None:\n",
    "        plt.title(title)\n",
    "    plt.pause(1)  # pause a bit so that plots are updated\n",
    "    \n",
    "def visualize_model(model, num_images=8):\n",
    "    images_so_far = 0\n",
    "    fig = plt.figure()\n",
    "\n",
    "    for batch_idx, (images, labels) in enumerate(dataloaders['test']):\n",
    "        #move to GPU\n",
    "        images, labels = images.cuda(), labels.cuda()\n",
    "        \n",
    "        outputs = model(images)\n",
    "        \n",
    "        _, preds = torch.max(outputs.data, 1)\n",
    "       \n",
    "\n",
    "        for j in range(images.size()[0]):\n",
    "            images_so_far += 1\n",
    "            ax = plt.subplot(num_images//2, 2, images_so_far)\n",
    "            ax.axis('off')\n",
    "            ax.set_title('class: {} predicted: {}'.format(class_names[labels.data[j]], class_names[preds[j]]))\n",
    "\n",
    "            imshow(images.cpu().data[j])\n",
    "\n",
    "            if images_so_far == num_images:\n",
    "                return"
   ]
  },
  {
   "cell_type": "code",
   "execution_count": 74,
   "metadata": {
    "colab": {},
    "colab_type": "code",
    "id": "sxjSnLKOJsTW"
   },
   "outputs": [
    {
     "data": {
      "image/png": "[encoded data removed]",
      "text/plain": [
       "<Figure size 432x288 with 1 Axes>"
      ]
     },
     "metadata": {
      "needs_background": "light"
     },
     "output_type": "display_data"
    },
    {
     "data": {
      "image/png": "[encoded data removed]",
      "text/plain": [
       "<Figure size 432x288 with 1 Axes>"
      ]
     },
     "metadata": {
      "needs_background": "light"
     },
     "output_type": "display_data"
    },
    {
     "data": {
      "image/png": "[encoded data removed]",
      "text/plain": [
       "<Figure size 432x288 with 1 Axes>"
      ]
     },
     "metadata": {
      "needs_background": "light"
     },
     "output_type": "display_data"
    },
    {
     "data": {
      "image/png": "[encoded data removed]",
      "text/plain": [
       "<Figure size 432x288 with 1 Axes>"
      ]
     },
     "metadata": {
      "needs_background": "light"
     },
     "output_type": "display_data"
    },
    {
     "data": {
      "image/png": "[encoded data removed]",
      "text/plain": [
       "<Figure size 432x288 with 1 Axes>"
      ]
     },
     "metadata": {
      "needs_background": "light"
     },
     "output_type": "display_data"
    },
    {
     "data": {
      "image/png": "[encoded data removed]",
      "text/plain": [
       "<Figure size 432x288 with 1 Axes>"
      ]
     },
     "metadata": {
      "needs_background": "light"
     },
     "output_type": "display_data"
    },
    {
     "data": {
      "image/png": "[encoded data removed]",
      "text/plain": [
       "<Figure size 432x288 with 1 Axes>"
      ]
     },
     "metadata": {
      "needs_background": "light"
     },
     "output_type": "display_data"
    },
    {
     "data": {
      "image/png": "[encoded data removed]",
      "text/plain": [
       "<Figure size 432x288 with 1 Axes>"
      ]
     },
     "metadata": {
      "needs_background": "light"
     },
     "output_type": "display_data"
    }
   ],
   "source": [
    "visualize_model(model)"
   ]
  },
  {
   "cell_type": "code",
   "execution_count": null,
   "metadata": {},
   "outputs": [],
   "source": []
  }
 ],
 "metadata": {
  "accelerator": "GPU",
  "colab": {
   "collapsed_sections": [],
   "name": "lab6.ipynb",
   "provenance": []
  },
  "kernelspec": {
   "display_name": "Python 3",
   "language": "python",
   "name": "python3"
  },
  "language_info": {
   "codemirror_mode": {
    "name": "ipython",
    "version": 3
   },
   "file_extension": ".py",
   "mimetype": "text/x-python",
   "name": "python",
   "nbconvert_exporter": "python",
   "pygments_lexer": "ipython3",
   "version": "3.7.4"
  }
 },
 "nbformat": 4,
 "nbformat_minor": 1
}
